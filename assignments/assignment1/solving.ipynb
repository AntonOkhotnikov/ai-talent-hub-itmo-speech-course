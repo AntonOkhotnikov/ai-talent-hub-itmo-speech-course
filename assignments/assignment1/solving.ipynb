{
 "cells": [
  {
   "cell_type": "code",
   "execution_count": 1,
   "metadata": {},
   "outputs": [],
   "source": [
    "from melbanks import LogMelFilterBanks\n",
    "import torch\n",
    "import torchaudio"
   ]
  },
  {
   "cell_type": "code",
   "execution_count": 2,
   "metadata": {},
   "outputs": [],
   "source": [
    "signal, sr = torchaudio.load(\"/home/darinka/Downloads/My Little Black Angel Death In June.wav\")"
   ]
  },
  {
   "cell_type": "code",
   "execution_count": 3,
   "metadata": {},
   "outputs": [
    {
     "name": "stdout",
     "output_type": "stream",
     "text": [
      "torch.Size([2, 70575, 201])\n",
      "torch.Size([201, 80])\n"
     ]
    }
   ],
   "source": [
    "melspec = torchaudio.transforms.MelSpectrogram(\n",
    "    hop_length=160,\n",
    "    n_mels=80\n",
    ")(signal)\n",
    "logmelbanks = LogMelFilterBanks()(signal)\n",
    "\n",
    "assert torch.log(melspec + 1e-6).shape == logmelbanks.shape\n",
    "assert torch.allclose(torch.log(melspec + 1e-6), logmelbanks)"
   ]
  }
 ],
 "metadata": {
  "kernelspec": {
   "display_name": ".venv",
   "language": "python",
   "name": "python3"
  },
  "language_info": {
   "codemirror_mode": {
    "name": "ipython",
    "version": 3
   },
   "file_extension": ".py",
   "mimetype": "text/x-python",
   "name": "python",
   "nbconvert_exporter": "python",
   "pygments_lexer": "ipython3",
   "version": "3.13.2"
  }
 },
 "nbformat": 4,
 "nbformat_minor": 2
}
